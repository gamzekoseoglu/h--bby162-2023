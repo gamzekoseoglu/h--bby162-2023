{
  "nbformat": 4,
  "nbformat_minor": 0,
  "metadata": {
    "colab": {
      "provenance": [],
      "authorship_tag": "ABX9TyNXuCBBASmSSYRbWeWwse05",
      "include_colab_link": true
    },
    "kernelspec": {
      "name": "python3",
      "display_name": "Python 3"
    },
    "language_info": {
      "name": "python"
    }
  },
  "cells": [
    {
      "cell_type": "markdown",
      "metadata": {
        "id": "view-in-github",
        "colab_type": "text"
      },
      "source": [
        "<a href=\"https://colab.research.google.com/github/gamzekoseoglu/h--bby162-2023/blob/main/Proje01.ipynb\" target=\"_parent\"><img src=\"https://colab.research.google.com/assets/colab-badge.svg\" alt=\"Open In Colab\"/></a>"
      ]
    },
    {
      "cell_type": "code",
      "execution_count": null,
      "metadata": {
        "colab": {
          "base_uri": "https://localhost:8080/"
        },
        "id": "KWNGdaq2ZEqx",
        "outputId": "6455bcd3-12a2-42f6-8beb-736dcc878f8e"
      },
      "outputs": [
        {
          "output_type": "stream",
          "name": "stdout",
          "text": [
            "['Bilgisayar Yazılımı', 'Programlama ve Algoritmalar', 'Web Tasarımı', 'Bilgi Erişim', 'Bilgi Hizmetleri']\n"
          ]
        }
      ],
      "source": [
        "# Çalışmam Gereken Dersler Listesi Hazırlayalım !\n",
        "dersListesi = [\"Bilgisayar Yazılımı\", \"Programlama ve Algoritmalar\", \"Web Tasarımı\", \"Bilgi Erişim\" , \"Bilgi Hizmetleri\"]\n",
        "print(dersListesi)\n"
      ]
    },
    {
      "cell_type": "code",
      "source": [
        "# Çalışmam Gereken Başka Dersler Ekle !\n",
        "dersListesi += [\"Bilginin Düzenlenmesi\", \"Bilimsel İletişim\"]\n",
        "print(dersListesi)"
      ],
      "metadata": {
        "colab": {
          "base_uri": "https://localhost:8080/"
        },
        "id": "AZ3Lf2Rri__o",
        "outputId": "d5423d75-ff25-4bd6-ad0e-b0d505656134"
      },
      "execution_count": null,
      "outputs": [
        {
          "output_type": "stream",
          "name": "stdout",
          "text": [
            "['Bilgisayar Yazılımı', 'Programlama ve Algoritmalar', 'Web Tasarımı', 'Bilgi Erişim', 'Bilgi Hizmetleri', 'Bilginin Düzenlenmesi', 'Bilimsel İletişim']\n"
          ]
        }
      ]
    },
    {
      "cell_type": "code",
      "source": [
        "# Çalışmam Gereken Yeni Dersleri Buraya Gir !\n",
        "baskadersListesi = input(\"çalışmanız gereken dersi buraya giriniz: \")\n",
        "dersListesi.append(baskadersListesi)"
      ],
      "metadata": {
        "id": "9vkiGuNrj9Ic"
      },
      "execution_count": null,
      "outputs": []
    },
    {
      "cell_type": "code",
      "source": [
        "# Çalıştığım Dersleri Sil !\n",
        "dersListesi[2:4] = []\n",
        "print(dersListesi)"
      ],
      "metadata": {
        "colab": {
          "base_uri": "https://localhost:8080/"
        },
        "id": "sF74iinvkhwW",
        "outputId": "ba1c261b-b302-4220-b831-b31c82874763"
      },
      "execution_count": null,
      "outputs": [
        {
          "output_type": "stream",
          "name": "stdout",
          "text": [
            "['Bilgisayar Yazılımı', 'Programlama ve Algoritmalar', 'Bilgi Hizmetleri', 'Bilginin Düzenlenmesi', 'Bilimsel İletişim']\n"
          ]
        }
      ]
    },
    {
      "cell_type": "code",
      "source": [
        "# Hepsini Çalıştığında Tüm Listeyi Sil !\n",
        "dersListesi[:] = []\n",
        "print(dersListesi)"
      ],
      "metadata": {
        "colab": {
          "base_uri": "https://localhost:8080/"
        },
        "id": "zFJcGMWJk3gd",
        "outputId": "26f21fa4-dc69-4518-ce73-7b9d94107bca"
      },
      "execution_count": null,
      "outputs": [
        {
          "output_type": "stream",
          "name": "stdout",
          "text": [
            "[]\n"
          ]
        }
      ]
    }
  ]
}