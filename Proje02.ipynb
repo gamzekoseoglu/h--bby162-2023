{
  "nbformat": 4,
  "nbformat_minor": 0,
  "metadata": {
    "colab": {
      "provenance": [],
      "authorship_tag": "ABX9TyOeBlSSuQ01r6n7Wq0EeuTy",
      "include_colab_link": true
    },
    "kernelspec": {
      "name": "python3",
      "display_name": "Python 3"
    },
    "language_info": {
      "name": "python"
    }
  },
  "cells": [
    {
      "cell_type": "markdown",
      "metadata": {
        "id": "view-in-github",
        "colab_type": "text"
      },
      "source": [
        "<a href=\"https://colab.research.google.com/github/gamzekoseoglu/hu-bby162-2023/blob/main/Proje02.ipynb\" target=\"_parent\"><img src=\"https://colab.research.google.com/assets/colab-badge.svg\" alt=\"Open In Colab\"/></a>"
      ]
    },
    {
      "cell_type": "code",
      "execution_count": 3,
      "metadata": {
        "colab": {
          "base_uri": "https://localhost:8080/"
        },
        "id": "7AoYnqj3sKv0",
        "outputId": "646df106-ae58-4a70-c5c9-6d868cabb744"
      },
      "outputs": [
        {
          "output_type": "stream",
          "name": "stdout",
          "text": [
            "Seviye seçiniz (Kolay, Orta, Zor): Orta\n",
            "Kategori:  Ankara\n",
            "İpucu: Kelimenin uzunluğu 9\n",
            "['_', '_', '_', '_', '_', '_', '_', '_', '_']\n",
            "Harf giriniz: E\n",
            "['_', '_', '_', '_', '_', 'e', '_', '_', '_']\n",
            "Harf giriniz: ş\n",
            "['_', '_', '_', '_', 'ş', 'e', '_', '_', '_']\n",
            "Harf giriniz: k\n",
            "['_', '_', 'k', '_', 'ş', 'e', '_', '_', '_']\n",
            "Harf giriniz: t\n",
            "Yanlış tahmin! Kalan can: 2\n",
            "['_', '_', 'k', '_', 'ş', 'e', '_', '_', '_']\n",
            "Harf giriniz: l\n",
            "Yanlış tahmin! Kalan can: 1\n",
            "['_', '_', 'k', '_', 'ş', 'e', '_', '_', '_']\n",
            "Harf giriniz: i\n",
            "['_', '_', 'k', 'i', 'ş', 'e', '_', 'i', '_']\n",
            "Harf giriniz: m\n",
            "Yanlış tahmin! Kalan can: 0\n",
            "['_', '_', 'k', 'i', 'ş', 'e', '_', 'i', '_']\n",
            "Canlarınız bitti. Doğru kelime: Eskişehir\n",
            "Tekrar oynamak ister misiniz? (E/H)H\n",
            "Teşekkürler!\n"
          ]
        }
      ],
      "source": [
        "\n",
        "import random\n",
        "\n",
        "kelimeler = [\"Ankara\", \"Eskişehir\", \"Konya\", \"Bursa\"]\n",
        "\n",
        "def adam_asmaca():\n",
        "    canlar = {\"Kolay\": 5, \"Orta\": 3, \"Zor\": 1}\n",
        "    while True:\n",
        "        seviye = input(\"Seviye seçiniz (Kolay, Orta, Zor): \")\n",
        "        if seviye in canlar:\n",
        "            adamCan = canlar[seviye]\n",
        "            break\n",
        "        else:\n",
        "            print(\"Geçersiz seçim! Lütfen tekrar deneyin.\")\n",
        "    \n",
        "    kategori = random.choice(kelimeler)\n",
        "    secilenKelime = random.choice(kelimeler)\n",
        "    dizilenKelime = [\"_\" for harf in secilenKelime]\n",
        "    \n",
        "    print(\"Kategori: \", kategori)\n",
        "    print(\"İpucu: Kelimenin uzunluğu\", len(secilenKelime))\n",
        "    print(dizilenKelime)\n",
        "    \n",
        "    while adamCan > 0:\n",
        "        girilenHarf = input(\"Harf giriniz: \").lower()\n",
        "        if girilenHarf in secilenKelime:\n",
        "            for i in range(len(secilenKelime)):\n",
        "                if secilenKelime[i] == girilenHarf:\n",
        "                    dizilenKelime[i] = girilenHarf\n",
        "            if \"_\" not in dizilenKelime:\n",
        "                print(\"Tebrikler! Doğru tahmin.\")\n",
        "                break\n",
        "        else:\n",
        "            adamCan -= 1\n",
        "            print(\"Yanlış tahmin! Kalan can:\", adamCan)\n",
        "        \n",
        "        print(dizilenKelime)\n",
        "    \n",
        "    if adamCan == 0:\n",
        "        print(\"Canlarınız bitti. Doğru kelime:\", secilenKelime)\n",
        "    \n",
        "    yenidenOyna = input(\"Tekrar oynamak ister misiniz? (E/H)\").lower()\n",
        "    if yenidenOyna == \"e\":\n",
        "        adam_asmaca()\n",
        "    else:\n",
        "        print(\"Teşekkürler!\")\n",
        "    \n",
        "adam_asmaca()"
      ]
    }
  ]
}