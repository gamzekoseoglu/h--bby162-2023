{
  "nbformat": 4,
  "nbformat_minor": 0,
  "metadata": {
    "colab": {
      "provenance": [],
      "authorship_tag": "ABX9TyNZhDa/o7r28/Aflj3UaYTA",
      "include_colab_link": true
    },
    "kernelspec": {
      "name": "python3",
      "display_name": "Python 3"
    },
    "language_info": {
      "name": "python"
    }
  },
  "cells": [
    {
      "cell_type": "markdown",
      "metadata": {
        "id": "view-in-github",
        "colab_type": "text"
      },
      "source": [
        "<a href=\"https://colab.research.google.com/github/gamzekoseoglu/hu-bby162-2023/blob/main/proje02.ipynb\" target=\"_parent\"><img src=\"https://colab.research.google.com/assets/colab-badge.svg\" alt=\"Open In Colab\"/></a>"
      ]
    },
    {
      "cell_type": "code",
      "execution_count": null,
      "metadata": {
        "colab": {
          "base_uri": "https://localhost:8080/"
        },
        "id": "7AoYnqj3sKv0",
        "outputId": "10357191-f6ec-43d9-cd3f-35eddaead2bc"
      },
      "outputs": [
        {
          "output_type": "stream",
          "name": "stdout",
          "text": [
            "Oynamak istediğiniz seviyeyi seçin (basit/orta/ileri): basit\n",
            "Kelime: _____\n",
            "İpucu Türkiye'nin en kalabalık dördüncü şehri\n",
            "Kalan can: 5\n",
            "Bir harf tahmin edin: ş\n",
            "Yanlış tahmin.\n",
            "Kelime: _____\n",
            "İpucu Türkiye'nin en kalabalık dördüncü şehri\n",
            "Kalan can: 4\n",
            "Bir harf tahmin edin: y\n",
            "Yanlış tahmin.\n",
            "Kelime: _____\n",
            "İpucu Türkiye'nin en kalabalık dördüncü şehri\n",
            "Kalan can: 3\n",
            "Bir harf tahmin edin: e\n",
            "Yanlış tahmin.\n",
            "Kelime: _____\n",
            "İpucu Türkiye'nin en kalabalık dördüncü şehri\n",
            "Kalan can: 2\n",
            "Bir harf tahmin edin: a\n",
            "Kelime: ____a\n",
            "İpucu Türkiye'nin en kalabalık dördüncü şehri\n",
            "Kalan can: 2\n",
            "Bir harf tahmin edin: ı\n",
            "Yanlış tahmin.\n",
            "Kelime: ____a\n",
            "İpucu Türkiye'nin en kalabalık dördüncü şehri\n",
            "Kalan can: 1\n",
            "Bir harf tahmin edin: k\n",
            "Yanlış tahmin.\n",
            "Canlarınız tükendi. Doğru kelime: Bursa\n",
            "Yeniden oynamak ister misiniz? (evet/hayır): hayır\n",
            "Oyun bitti.\n"
          ]
        }
      ],
      "source": [
        "\n",
        "import random\n",
        "\n",
        "# Kelimeler ve İpuçları\n",
        "kelime_ipucu = {\n",
        "    \"Ankara\": \"Türkiye'nin başkenti\",\n",
        "    \"Eskişehir\": \"Türkiye'nin en kalabalık yirmi beşinci şehri\",\n",
        "    \"Konya\":\"Türkiye'nin en kalabalık altıncı şehri\",\n",
        "    \"Bursa\": \"Türkiye'nin en kalabalık dördüncü şehri\"\n",
        "}\n",
        "\n",
        "def adam_asmaca():\n",
        "\n",
        "  seviye = input(\"Oynamak istediğiniz seviyeyi seçin (basit/orta/ileri): \")\n",
        "\n",
        "  if seviye == \"basit\":\n",
        "    can = 5\n",
        "  elif seviye == \"orta\":\n",
        "    can = 3\n",
        "  elif seviye == \"ileri\":\n",
        "    can = 1\n",
        "  else:\n",
        "    print(\"Geçersiz seviye seçimi!\")\n",
        "    return\n",
        "\n",
        "  kelime = random.choice(list(kelime_ipucu.keys()))\n",
        "  ipucu = kelime_ipucu[kelime]\n",
        "\n",
        "  tahmin_edilen = \"_\" * len(kelime)\n",
        "  tahmin_edilen_harf = set()\n",
        "\n",
        "  while can > 0 and tahmin_edilen != kelime:\n",
        "    print(\"Kelime:\", tahmin_edilen)\n",
        "    print(\"İpucu\", ipucu)\n",
        "    print(\"Kalan can:\", can)\n",
        "\n",
        "    tahmin = input(\"Bir harf tahmin edin: \"). lower()\n",
        "\n",
        "    if tahmin in tahmin_edilen_harf:\n",
        "      print(\"Bu harfi tahmin ettiniz.\")\n",
        "      continue\n",
        "\n",
        "    if tahmin in kelime:\n",
        "      for i in range(len(kelime)):\n",
        "        if kelime[i] == tahmin:\n",
        "          tahmin_edilen = tahmin_edilen[:i] + tahmin + tahmin_edilen[i+1:]\n",
        "    \n",
        "    else:\n",
        "      can -= 1\n",
        "      print(\"Yanlış tahmin.\")\n",
        "\n",
        "\n",
        "    tahmin_edilen_harf.add(tahmin)\n",
        "\n",
        "  if tahmin_edilen == kelime:\n",
        "    print(\"Tebrikler! Doğru tahmin. Kelime:\", kelime)\n",
        "  else: \n",
        "    print(\"Canlarınız tükendi. Doğru kelime:\", kelime)\n",
        "\n",
        "\n",
        "  tekrar = input(\"Yeniden oynamak ister misiniz? (evet/hayır): \")\n",
        "  if tekrar == \"evet\":\n",
        "    adam_asmaca()\n",
        "  else:\n",
        "    print(\"Oyun bitti.\")\n",
        "\n",
        "adam_asmaca()"
      ]
    }
  ]
}